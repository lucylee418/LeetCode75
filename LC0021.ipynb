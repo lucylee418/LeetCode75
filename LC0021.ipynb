{
 "cells": [
  {
   "cell_type": "code",
   "execution_count": 2,
   "metadata": {},
   "outputs": [],
   "source": [
    "class ListNode:\n",
    "    def __init__(self, val=0, next=None):\n",
    "        self.val = val\n",
    "        self.next = next"
   ]
  },
  {
   "cell_type": "code",
   "execution_count": 4,
   "metadata": {},
   "outputs": [],
   "source": [
    "# # Recursion\n",
    "# def mergeTwoLists(list1, list2):  \n",
    "#     # If one of them is null, return the other\n",
    "#     if list1 is None:\n",
    "#         return list2\n",
    "#     elif list2 is None:\n",
    "#         return list1\n",
    "#     # Else, assign head to the smaller node\n",
    "#     elif list1.val < list2.val:\n",
    "#         head = list1\n",
    "#         list1 = list1.next\n",
    "#     else:\n",
    "#         head = list2\n",
    "#         list2 = list2.next\n",
    "#     head.next = mergeTwoLists(list1, list2)\n",
    "#     return head"
   ]
  },
  {
   "cell_type": "code",
   "execution_count": 5,
   "metadata": {},
   "outputs": [],
   "source": [
    "# Iteration\n",
    "def mergeTwoLists(list1, list2):\n",
    "    head = ListNode(0)\n",
    "    tail = head\n",
    "    while (list1 is not None) & (list2 is not None):\n",
    "        if list1.val < list2.val:\n",
    "            tail.next = list1\n",
    "            list1 = list1.next\n",
    "        else:\n",
    "            tail.next = list2\n",
    "            list2 = list2.next\n",
    "        tail = tail.next\n",
    "    tail.next = list1 if list1 is not None else list2\n",
    "    return head.next"
   ]
  },
  {
   "cell_type": "code",
   "execution_count": 6,
   "metadata": {},
   "outputs": [
    {
     "name": "stdout",
     "output_type": "stream",
     "text": [
      "1\n",
      "1\n",
      "2\n",
      "3\n",
      "4\n",
      "4\n"
     ]
    }
   ],
   "source": [
    "l1 = ListNode(1, ListNode(2, ListNode(4)))\n",
    "l2 = ListNode(1, ListNode(3, ListNode(4)))\n",
    "myNodes = mergeTwoLists(l1, l2)\n",
    "\n",
    "# print values\n",
    "while (myNodes is not None):\n",
    "    print(myNodes.val)\n",
    "    myNodes = myNodes.next"
   ]
  }
 ],
 "metadata": {
  "kernelspec": {
   "display_name": "Python 3",
   "language": "python",
   "name": "python3"
  },
  "language_info": {
   "codemirror_mode": {
    "name": "ipython",
    "version": 3
   },
   "file_extension": ".py",
   "mimetype": "text/x-python",
   "name": "python",
   "nbconvert_exporter": "python",
   "pygments_lexer": "ipython3",
   "version": "3.9.6 (default, Oct 18 2022, 12:41:40) \n[Clang 14.0.0 (clang-1400.0.29.202)]"
  },
  "orig_nbformat": 4,
  "vscode": {
   "interpreter": {
    "hash": "31f2aee4e71d21fbe5cf8b01ff0e069b9275f58929596ceb00d14d90e3e16cd6"
   }
  }
 },
 "nbformat": 4,
 "nbformat_minor": 2
}
