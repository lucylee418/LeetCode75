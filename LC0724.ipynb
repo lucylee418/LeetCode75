{
 "cells": [
  {
   "cell_type": "code",
   "execution_count": 1,
   "metadata": {},
   "outputs": [],
   "source": [
    "class Solution:\n",
    "    def __init__(self, nums):\n",
    "        self.nums = nums\n",
    "        print(\"input list:\", self.nums)\n",
    "    def pivotIndex(self):\n",
    "        pivot = -1\n",
    "        totalSum = sum(self.nums)\n",
    "        leftSum = 0\n",
    "        for i in range(len(self.nums)):\n",
    "            rightSum = totalSum - leftSum - self.nums[i]\n",
    "            if leftSum == rightSum:\n",
    "                pivot = i\n",
    "                break\n",
    "            else :\n",
    "                leftSum += self.nums[i]\n",
    "        return pivot"
   ]
  },
  {
   "cell_type": "code",
   "execution_count": 2,
   "metadata": {},
   "outputs": [
    {
     "name": "stdout",
     "output_type": "stream",
     "text": [
      "input list: [1, 7, 3, 6, 5, 6]\n",
      "3\n"
     ]
    }
   ],
   "source": [
    "myList = [1,7,3,6,5,6]\n",
    "print(Solution(myList).pivotIndex())"
   ]
  },
  {
   "cell_type": "code",
   "execution_count": null,
   "metadata": {},
   "outputs": [],
   "source": []
  }
 ],
 "metadata": {
  "kernelspec": {
   "display_name": "base",
   "language": "python",
   "name": "python3"
  },
  "language_info": {
   "codemirror_mode": {
    "name": "ipython",
    "version": 3
   },
   "file_extension": ".py",
   "mimetype": "text/x-python",
   "name": "python",
   "nbconvert_exporter": "python",
   "pygments_lexer": "ipython3",
   "version": "3.9.7"
  },
  "orig_nbformat": 4,
  "vscode": {
   "interpreter": {
    "hash": "1945a49d8267038c199a72e8f61b6bfcbb9f4626ddb3ddff4ec56a3f45e14a7a"
   }
  }
 },
 "nbformat": 4,
 "nbformat_minor": 2
}
