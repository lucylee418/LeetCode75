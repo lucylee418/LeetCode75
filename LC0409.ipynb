{
 "cells": [
  {
   "attachments": {},
   "cell_type": "markdown",
   "metadata": {},
   "source": [
    "**Intuition**<br>\n",
    "A palindrome consists of letters with equal partners, <br>\n",
    "plus possibly a unique center (without a partner). <br>\n",
    "The letter i from the left has its partner i from the right. <br>\n",
    "For example in 'abcba', 'aa' and 'bb' are partners, and 'c' is a unique center.<br>\n",
    "<br>\n",
    "Imagine we built our palindrome. <br>\n",
    "It consists of as many partnered letters as possible, plus a unique center if possible. <br>\n",
    "This motivates a greedy approach.<br>\n",
    "\n",
    "**Algorithm**<br>\n",
    "For each letter, say it occurs v times. <br>\n",
    "We know we have v // 2 * 2 letters that can be partnered for sure. <br>\n",
    "For example, if we have 'aaaaa', then we could have 'aaaa' partnered, <br>\n",
    "which is 5 // 2 * 2 = 4 letters partnered.<br>\n",
    "<br>\n",
    "At the end, if there was any v % 2 == 1, then that letter could have been a unique center. <br>\n",
    "Otherwise, every letter was partnered. <br>\n",
    "To perform this check, we will check for v % 2 == 1 and ans % 2 == 0, <br>\n",
    "the latter meaning we haven't yet added a unique center to the answer.<br>"
   ]
  },
  {
   "cell_type": "code",
   "execution_count": 2,
   "metadata": {},
   "outputs": [],
   "source": [
    "import numpy as np\n",
    "\n",
    "def longestPalindrome(s) :\n",
    "    count = np.zeros(128)\n",
    "    for letter in s:\n",
    "        pos = int(ord(letter))\n",
    "        count[pos] += 1\n",
    "    \n",
    "    ans = 0;\n",
    "    for n in count:\n",
    "        ans += n//2 *2\n",
    "        if ans%2==0 and n%2==1:\n",
    "            ans += 1\n",
    "    return int(ans)"
   ]
  },
  {
   "cell_type": "code",
   "execution_count": 4,
   "metadata": {},
   "outputs": [
    {
     "name": "stdout",
     "output_type": "stream",
     "text": [
      "7\n"
     ]
    }
   ],
   "source": [
    "l1 = \"abccccdd\"\n",
    "\n",
    "# print value\n",
    "print(longestPalindrome(l1))"
   ]
  }
 ],
 "metadata": {
  "kernelspec": {
   "display_name": "base",
   "language": "python",
   "name": "python3"
  },
  "language_info": {
   "codemirror_mode": {
    "name": "ipython",
    "version": 3
   },
   "file_extension": ".py",
   "mimetype": "text/x-python",
   "name": "python",
   "nbconvert_exporter": "python",
   "pygments_lexer": "ipython3",
   "version": "3.9.7 (default, Sep 16 2021, 08:50:36) \n[Clang 10.0.0 ]"
  },
  "orig_nbformat": 4,
  "vscode": {
   "interpreter": {
    "hash": "1945a49d8267038c199a72e8f61b6bfcbb9f4626ddb3ddff4ec56a3f45e14a7a"
   }
  }
 },
 "nbformat": 4,
 "nbformat_minor": 2
}
