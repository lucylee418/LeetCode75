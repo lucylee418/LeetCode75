{
 "cells": [
  {
   "cell_type": "code",
   "execution_count": 1,
   "metadata": {},
   "outputs": [],
   "source": [
    "class ListNode:\n",
    "    def __init__(self, val=0, next=None):\n",
    "        self.val = val\n",
    "        self.next = next"
   ]
  },
  {
   "cell_type": "code",
   "execution_count": 2,
   "metadata": {},
   "outputs": [],
   "source": [
    "def detectCycle(head):\n",
    "    visited = set()\n",
    "    while head is not None:\n",
    "        if head in visited:\n",
    "            return head\n",
    "        visited.add(head)\n",
    "        head = head.next\n",
    "    return None"
   ]
  },
  {
   "cell_type": "code",
   "execution_count": 3,
   "metadata": {},
   "outputs": [
    {
     "name": "stdout",
     "output_type": "stream",
     "text": [
      "None\n"
     ]
    }
   ],
   "source": [
    "# l1 = ListNode(1, ListNode(2, ListNode(4, ListNode(5))))\n",
    "l0 = ListNode(2)\n",
    "l1 = ListNode(l0, ListNode(0, ListNode(-4, l0)))\n",
    "l2 = ListNode(3, l1)\n",
    "cycleList = detectCycle(l1)\n",
    "\n",
    "# print the value\n",
    "print(cycleList)"
   ]
  }
 ],
 "metadata": {
  "kernelspec": {
   "display_name": "base",
   "language": "python",
   "name": "python3"
  },
  "language_info": {
   "codemirror_mode": {
    "name": "ipython",
    "version": 3
   },
   "file_extension": ".py",
   "mimetype": "text/x-python",
   "name": "python",
   "nbconvert_exporter": "python",
   "pygments_lexer": "ipython3",
   "version": "3.9.7"
  },
  "orig_nbformat": 4,
  "vscode": {
   "interpreter": {
    "hash": "1945a49d8267038c199a72e8f61b6bfcbb9f4626ddb3ddff4ec56a3f45e14a7a"
   }
  }
 },
 "nbformat": 4,
 "nbformat_minor": 2
}
