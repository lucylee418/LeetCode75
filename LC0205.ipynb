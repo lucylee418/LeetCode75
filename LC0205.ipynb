{
 "cells": [
  {
   "cell_type": "code",
   "execution_count": 2,
   "metadata": {},
   "outputs": [],
   "source": [
    "# Mine\n",
    "import numpy as np\n",
    "def isIsomorphic(s, t):\n",
    "    if (len(s) != len(t)):\n",
    "        return False\n",
    "    sArray = np.zeros(251)\n",
    "    tArray = np.zeros(251)\n",
    "    for i in range(len(s)):\n",
    "        sLetter = int(ord(s[i]))\n",
    "        tLetter = int(ord(t[i]))\n",
    "        if sArray[sLetter] == 0:\n",
    "            if tArray[tLetter] == 0:\n",
    "                sArray[sLetter] = tLetter\n",
    "                tArray[tLetter] = sLetter\n",
    "            else:\n",
    "                return False\n",
    "        else: \n",
    "            if sArray[sLetter] != tLetter:\n",
    "                return False\n",
    "    return True"
   ]
  },
  {
   "cell_type": "code",
   "execution_count": 5,
   "metadata": {},
   "outputs": [],
   "source": [
    "# # Official Solution\n",
    "# def transformString(k):\n",
    "#     index_mapping = {}      # letters:number\n",
    "#     new_str = []            # number\n",
    "    \n",
    "#     for i, c in enumerate(k):     # i: 0, 1, 2, ... c: e, g, g, ...\n",
    "#         if c not in index_mapping:\n",
    "#             index_mapping[c] = i\n",
    "#         new_str.append(str(index_mapping[c]))\n",
    "#         # print(\"index_mapping[c]:\", index_mapping[c])\n",
    "#         # print(\"(str(index_mapping[c])\", str(index_mapping[c]))\n",
    "    \n",
    "#     return \" \".join(new_str)    # numbers\n",
    "\n",
    "\n",
    "# def isIsomorphic(s, t):\n",
    "#     return transformString(s) == transformString(t)\n",
    "\n",
    "\n",
    "# transformString(\"egg\")"
   ]
  },
  {
   "cell_type": "code",
   "execution_count": 3,
   "metadata": {},
   "outputs": [
    {
     "name": "stdout",
     "output_type": "stream",
     "text": [
      "True\n"
     ]
    }
   ],
   "source": [
    "s = \"egg\"\n",
    "t = \"add\"\n",
    "print(isIsomorphic(s, t))"
   ]
  }
 ],
 "metadata": {
  "kernelspec": {
   "display_name": "base",
   "language": "python",
   "name": "python3"
  },
  "language_info": {
   "codemirror_mode": {
    "name": "ipython",
    "version": 3
   },
   "file_extension": ".py",
   "mimetype": "text/x-python",
   "name": "python",
   "nbconvert_exporter": "python",
   "pygments_lexer": "ipython3",
   "version": "3.9.7"
  },
  "orig_nbformat": 4,
  "vscode": {
   "interpreter": {
    "hash": "1945a49d8267038c199a72e8f61b6bfcbb9f4626ddb3ddff4ec56a3f45e14a7a"
   }
  }
 },
 "nbformat": 4,
 "nbformat_minor": 2
}
