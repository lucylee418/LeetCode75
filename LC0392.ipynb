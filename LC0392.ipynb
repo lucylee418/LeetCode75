{
 "cells": [
  {
   "cell_type": "code",
   "execution_count": 1,
   "metadata": {},
   "outputs": [],
   "source": [
    "def isSubsequence(s, t):\n",
    "    # Initialize\n",
    "    leftBound = len(s)\n",
    "    rightBound = len(t)\n",
    "    pLeft = 0\n",
    "    pRight = 0\n",
    "\n",
    "    while (pLeft < leftBound) & (pRight < rightBound):\n",
    "        if s[pLeft] == t[pRight]:\n",
    "            pLeft += 1\n",
    "        pRight += 1\n",
    "\n",
    "    return pLeft == leftBound"
   ]
  },
  {
   "cell_type": "code",
   "execution_count": 2,
   "metadata": {},
   "outputs": [
    {
     "name": "stdout",
     "output_type": "stream",
     "text": [
      "True\n"
     ]
    }
   ],
   "source": [
    "s = \"abc\"\n",
    "t = \"ahvjhbvc\"\n",
    "print(isSubsequence(s, t))"
   ]
  }
 ],
 "metadata": {
  "kernelspec": {
   "display_name": "Python 3",
   "language": "python",
   "name": "python3"
  },
  "language_info": {
   "codemirror_mode": {
    "name": "ipython",
    "version": 3
   },
   "file_extension": ".py",
   "mimetype": "text/x-python",
   "name": "python",
   "nbconvert_exporter": "python",
   "pygments_lexer": "ipython3",
   "version": "3.9.6"
  },
  "orig_nbformat": 4,
  "vscode": {
   "interpreter": {
    "hash": "31f2aee4e71d21fbe5cf8b01ff0e069b9275f58929596ceb00d14d90e3e16cd6"
   }
  }
 },
 "nbformat": 4,
 "nbformat_minor": 2
}
