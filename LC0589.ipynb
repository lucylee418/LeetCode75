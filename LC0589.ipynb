{
 "cells": [
  {
   "cell_type": "code",
   "execution_count": 1,
   "metadata": {},
   "outputs": [],
   "source": [
    "class Node:\n",
    "    def __init__(self, val=None, children=None):\n",
    "        self.val = val\n",
    "        self.children = children"
   ]
  },
  {
   "cell_type": "code",
   "execution_count": 12,
   "metadata": {},
   "outputs": [],
   "source": [
    "def preorder(root):\n",
    "    nodes = []\n",
    "    valList = []\n",
    "\n",
    "    if root is None:\n",
    "        return valList\n",
    "    nodes.append(root)\n",
    "    while len(nodes) != 0:\n",
    "        currNode = nodes.pop(-1)\n",
    "        valList.append(currNode.val)\n",
    "        if currNode.children is not None:\n",
    "            currNode.children.reverse()\n",
    "            for child in currNode.children:\n",
    "                nodes.append(child)\n",
    "    return valList"
   ]
  },
  {
   "cell_type": "code",
   "execution_count": 15,
   "metadata": {},
   "outputs": [
    {
     "data": {
      "text/plain": [
       "[1, 3, 5, 6, 2, 4]"
      ]
     },
     "execution_count": 15,
     "metadata": {},
     "output_type": "execute_result"
    }
   ],
   "source": [
    "# Create the nodes\n",
    "l3 = Node(3, [Node(5), Node(6)])\n",
    "l1 = Node(1, [l3, Node(2), Node(4)])\n",
    "\n",
    "preorder(l1)"
   ]
  }
 ],
 "metadata": {
  "kernelspec": {
   "display_name": "base",
   "language": "python",
   "name": "python3"
  },
  "language_info": {
   "codemirror_mode": {
    "name": "ipython",
    "version": 3
   },
   "file_extension": ".py",
   "mimetype": "text/x-python",
   "name": "python",
   "nbconvert_exporter": "python",
   "pygments_lexer": "ipython3",
   "version": "3.9.7"
  },
  "orig_nbformat": 4,
  "vscode": {
   "interpreter": {
    "hash": "1945a49d8267038c199a72e8f61b6bfcbb9f4626ddb3ddff4ec56a3f45e14a7a"
   }
  }
 },
 "nbformat": 4,
 "nbformat_minor": 2
}
