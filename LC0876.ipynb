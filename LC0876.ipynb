{
 "cells": [
  {
   "cell_type": "code",
   "execution_count": 6,
   "metadata": {},
   "outputs": [],
   "source": [
    "class ListNode:\n",
    "    def __init__(self, val=0, next=None):\n",
    "        self.val = val\n",
    "        self.next = next"
   ]
  },
  {
   "cell_type": "code",
   "execution_count": 7,
   "metadata": {},
   "outputs": [],
   "source": [
    "def middleNode(head):\n",
    "    # Copy current list\n",
    "    middleHead = head\n",
    "    # Get the length\n",
    "    leng = 0\n",
    "    while head is not None:\n",
    "        head = head.next\n",
    "        leng += 1\n",
    "    # Get the middle\n",
    "    middle = round(leng//2)+1\n",
    "    for i in range(1, middle):\n",
    "        middleHead = middleHead.next\n",
    "    return middleHead"
   ]
  },
  {
   "cell_type": "code",
   "execution_count": 8,
   "metadata": {},
   "outputs": [
    {
     "name": "stdout",
     "output_type": "stream",
     "text": [
      "4\n",
      "5\n"
     ]
    }
   ],
   "source": [
    "l1 = ListNode(1, ListNode(2, ListNode(4, ListNode(5))))\n",
    "middleList = middleNode(l1)\n",
    "\n",
    "# print values\n",
    "while (middleList is not None):\n",
    "    print(middleList.val)\n",
    "    middleList = middleList.next"
   ]
  }
 ],
 "metadata": {
  "kernelspec": {
   "display_name": "base",
   "language": "python",
   "name": "python3"
  },
  "language_info": {
   "codemirror_mode": {
    "name": "ipython",
    "version": 3
   },
   "file_extension": ".py",
   "mimetype": "text/x-python",
   "name": "python",
   "nbconvert_exporter": "python",
   "pygments_lexer": "ipython3",
   "version": "3.9.7"
  },
  "orig_nbformat": 4,
  "vscode": {
   "interpreter": {
    "hash": "1945a49d8267038c199a72e8f61b6bfcbb9f4626ddb3ddff4ec56a3f45e14a7a"
   }
  }
 },
 "nbformat": 4,
 "nbformat_minor": 2
}
