{
 "cells": [
  {
   "cell_type": "code",
   "execution_count": null,
   "metadata": {},
   "outputs": [],
   "source": [
    "class TreeNode:\n",
    "    def __init__(self, val=0, left=None, right=None):\n",
    "        self.val = val\n",
    "        self.left = left\n",
    "        self.right = right"
   ]
  },
  {
   "cell_type": "code",
   "execution_count": null,
   "metadata": {},
   "outputs": [],
   "source": [
    "def levelOrder(root) :\n",
    "    # Initialize\n",
    "    levels = []\n",
    "    # helper function\n",
    "    def helper(node, level):\n",
    "        # create empty array for current level\n",
    "        if len(levels) == level:\n",
    "            levels.append([])\n",
    "        # add the element to the current level\n",
    "        levels[level].append(node.val)\n",
    "        # process child nodes for the next level\n",
    "        if node.left is not None:\n",
    "            helper(node.left, level+1)\n",
    "        if node.right is not None:\n",
    "            helper(node.right, level+1)\n",
    "        return\n",
    "\n",
    "    if root is None:\n",
    "        return levels\n",
    "    helper(root, 0)\n",
    "    return levels"
   ]
  },
  {
   "cell_type": "code",
   "execution_count": null,
   "metadata": {},
   "outputs": [],
   "source": [
    "# Create TreeNodes\n",
    "n1 = TreeNode(TreeNode(20), [TreeNode(15), TreeNode(7)])\n",
    "n2 = TreeNode(TreeNode(3), TreeNode(9), TreeNode(20, [TreeNode(15), TreeNode(7)]))\n",
    "\n",
    "levelOrder(n2)"
   ]
  }
 ],
 "metadata": {
  "kernelspec": {
   "display_name": "base",
   "language": "python",
   "name": "python3"
  },
  "language_info": {
   "codemirror_mode": {
    "name": "ipython",
    "version": 3
   },
   "file_extension": ".py",
   "mimetype": "text/x-python",
   "name": "python",
   "nbconvert_exporter": "python",
   "pygments_lexer": "ipython3",
   "version": "3.9.7"
  },
  "orig_nbformat": 4,
  "vscode": {
   "interpreter": {
    "hash": "1945a49d8267038c199a72e8f61b6bfcbb9f4626ddb3ddff4ec56a3f45e14a7a"
   }
  }
 },
 "nbformat": 4,
 "nbformat_minor": 2
}
